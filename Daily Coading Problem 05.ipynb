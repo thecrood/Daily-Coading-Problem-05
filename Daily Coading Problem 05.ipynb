{
 "cells": [
  {
   "cell_type": "markdown",
   "id": "09c43b30",
   "metadata": {},
   "source": [
    "# Daily Coading Problem 05"
   ]
  },
  {
   "cell_type": "markdown",
   "id": "7f9a2650",
   "metadata": {},
   "source": [
    "This problem was asked by Jane Street.\n",
    "\n",
    "cons(a, b) constructs a pair, and car(pair) and cdr(pair) returns the first and last element of that pair. For example, car(cons(3, 4)) returns 3, and cdr(cons(3, 4)) returns 4."
   ]
  },
  {
   "cell_type": "raw",
   "id": "16a70636",
   "metadata": {},
   "source": [
    "Given this implementation of cons:\n",
    "\n",
    "def cons(a, b):\n",
    "    def pair(f):\n",
    "        return f(a, b)\n",
    "    return pair"
   ]
  },
  {
   "cell_type": "markdown",
   "id": "3f2d08dc",
   "metadata": {},
   "source": [
    "# Context"
   ]
  },
  {
   "cell_type": "markdown",
   "id": "b68685d1",
   "metadata": {},
   "source": [
    "So what is car and cdr anyway?\n",
    "\n",
    "A cons cell is composed of two pointers; the car operation extracts the first pointer, and the cdr operation extracts the second."
   ]
  },
  {
   "cell_type": "code",
   "execution_count": 2,
   "id": "b44a7c62",
   "metadata": {},
   "outputs": [
    {
     "name": "stdout",
     "output_type": "stream",
     "text": [
      "3\n",
      "4\n"
     ]
    }
   ],
   "source": [
    "def cons(a, b):\n",
    "    def pair(f):\n",
    "        return f(a, b)\n",
    "    return pair\n",
    "\n",
    "def car(cons):\n",
    "    return cons(lambda a, b: a)\n",
    "\n",
    "def cdr(cons):\n",
    "    return cons(lambda a, b: b)\n",
    "\n",
    "print(car(cons(3, 4)))\n",
    "print(cdr(cons(3, 4)))"
   ]
  },
  {
   "cell_type": "code",
   "execution_count": null,
   "id": "4919d231",
   "metadata": {},
   "outputs": [],
   "source": []
  }
 ],
 "metadata": {
  "kernelspec": {
   "display_name": "Python 3 (ipykernel)",
   "language": "python",
   "name": "python3"
  },
  "language_info": {
   "codemirror_mode": {
    "name": "ipython",
    "version": 3
   },
   "file_extension": ".py",
   "mimetype": "text/x-python",
   "name": "python",
   "nbconvert_exporter": "python",
   "pygments_lexer": "ipython3",
   "version": "3.8.10"
  }
 },
 "nbformat": 4,
 "nbformat_minor": 5
}
